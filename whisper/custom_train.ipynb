{
 "cells": [
  {
   "cell_type": "code",
   "execution_count": 1,
   "metadata": {},
   "outputs": [
    {
     "name": "stderr",
     "output_type": "stream",
     "text": [
      "/home/yumin/miniconda3/envs/whisper/lib/python3.11/site-packages/tqdm/auto.py:21: TqdmWarning: IProgress not found. Please update jupyter and ipywidgets. See https://ipywidgets.readthedocs.io/en/stable/user_install.html\n",
      "  from .autonotebook import tqdm as notebook_tqdm\n",
      "/home/yumin/miniconda3/envs/whisper/lib/python3.11/site-packages/huggingface_hub/file_download.py:1132: FutureWarning: `resume_download` is deprecated and will be removed in version 1.0.0. Downloads always resume when possible. If you want to force a new download, use `force_download=True`.\n",
      "  warnings.warn(\n",
      "Special tokens have been added in the vocabulary, make sure the associated word embeddings are fine-tuned or trained.\n",
      "Special tokens have been added in the vocabulary, make sure the associated word embeddings are fine-tuned or trained.\n"
     ]
    }
   ],
   "source": [
    "from transformers import WhisperProcessor, WhisperForConditionalGeneration, WhisperFeatureExtractor, WhisperTokenizer\n",
    "\n",
    "processor = WhisperProcessor.from_pretrained(\"openai/whisper-tiny\", language=\"Korean\", task=\"transcribe\")\n",
    "\n",
    "model = WhisperForConditionalGeneration.from_pretrained(\"openai/whisper-tiny\")\n",
    "feature_extractor = WhisperFeatureExtractor.from_pretrained(\"openai/whisper-tiny\")\n",
    "tokenizer = WhisperTokenizer.from_pretrained(\"openai/whisper-tiny\", language=\"Korean\", task=\"transcribe\")"
   ]
  },
  {
   "cell_type": "code",
   "execution_count": 2,
   "metadata": {},
   "outputs": [],
   "source": [
    "from datasets import load_dataset\n",
    "dataset = load_dataset(\"Bingsu/zeroth-korean\")"
   ]
  },
  {
   "cell_type": "code",
   "execution_count": 3,
   "metadata": {},
   "outputs": [
    {
     "data": {
      "text/plain": [
       "DatasetDict({\n",
       "    train: Dataset({\n",
       "        features: ['audio', 'text'],\n",
       "        num_rows: 22263\n",
       "    })\n",
       "    test: Dataset({\n",
       "        features: ['audio', 'text'],\n",
       "        num_rows: 457\n",
       "    })\n",
       "})"
      ]
     },
     "execution_count": 3,
     "metadata": {},
     "output_type": "execute_result"
    }
   ],
   "source": [
    "dataset"
   ]
  },
  {
   "cell_type": "code",
   "execution_count": 4,
   "metadata": {},
   "outputs": [
    {
     "data": {
      "text/plain": [
       "{'audio': {'path': None,\n",
       "  'array': array([-3.05175781e-05,  0.00000000e+00, -3.05175781e-05, ...,\n",
       "          0.00000000e+00,  0.00000000e+00, -6.10351562e-05]),\n",
       "  'sampling_rate': 16000},\n",
       " 'text': '인사를 결정하는 과정에서 당 지도부가 우 원내대표 및 원내지도부와 충분한 상의를 거치지 않은 채 일방적으로 인사를 했다는 불만도 원내지도부를 중심으로 흘러나왔다'}"
      ]
     },
     "execution_count": 4,
     "metadata": {},
     "output_type": "execute_result"
    }
   ],
   "source": [
    "dataset['train'][0]"
   ]
  },
  {
   "cell_type": "code",
   "execution_count": 5,
   "metadata": {},
   "outputs": [],
   "source": [
    "def prepare_dataset(batch):\n",
    "    # load and resample audio data from 48 to 16kHz\n",
    "    audio = batch[\"audio\"]\n",
    "\n",
    "    # compute log-Mel input features from input audio array \n",
    "    batch[\"input_features\"] = feature_extractor(audio[\"array\"], sampling_rate=audio[\"sampling_rate\"]).input_features[0]\n",
    "\n",
    "    # encode target text to label ids \n",
    "    batch[\"labels\"] = tokenizer(batch[\"text\"]).input_ids\n",
    "    return batch"
   ]
  },
  {
   "cell_type": "code",
   "execution_count": 6,
   "metadata": {},
   "outputs": [],
   "source": [
    "input_dataset = dataset.map(prepare_dataset, remove_columns=dataset.column_names[\"train\"], num_proc=4)"
   ]
  },
  {
   "cell_type": "code",
   "execution_count": 7,
   "metadata": {},
   "outputs": [
    {
     "data": {
      "text/plain": [
       "DatasetDict({\n",
       "    train: Dataset({\n",
       "        features: ['input_features', 'labels'],\n",
       "        num_rows: 22263\n",
       "    })\n",
       "    test: Dataset({\n",
       "        features: ['input_features', 'labels'],\n",
       "        num_rows: 457\n",
       "    })\n",
       "})"
      ]
     },
     "execution_count": 7,
     "metadata": {},
     "output_type": "execute_result"
    }
   ],
   "source": [
    "input_dataset"
   ]
  },
  {
   "cell_type": "code",
   "execution_count": 8,
   "metadata": {},
   "outputs": [],
   "source": [
    "import torch\n",
    "\n",
    "from dataclasses import dataclass\n",
    "from typing import Any, Dict, List, Union\n",
    "\n",
    "@dataclass\n",
    "class DataCollatorSpeechSeq2SeqWithPadding:\n",
    "    processor: Any\n",
    "    decoder_start_token_id: int\n",
    "\n",
    "    def __call__(self, features: List[Dict[str, Union[List[int], torch.Tensor]]]) -> Dict[str, torch.Tensor]:\n",
    "        # split inputs and labels since they have to be of different lengths and need different padding methods\n",
    "        # first treat the audio inputs by simply returning torch tensors\n",
    "        input_features = [{\"input_features\": feature[\"input_features\"]} for feature in features]\n",
    "        batch = self.processor.feature_extractor.pad(input_features, return_tensors=\"pt\")\n",
    "\n",
    "        # get the tokenized label sequences\n",
    "        label_features = [{\"input_ids\": feature[\"labels\"]} for feature in features]\n",
    "        # pad the labels to max length\n",
    "        labels_batch = self.processor.tokenizer.pad(label_features, return_tensors=\"pt\")\n",
    "\n",
    "        # replace padding with -100 to ignore loss correctly\n",
    "        labels = labels_batch[\"input_ids\"].masked_fill(labels_batch.attention_mask.ne(1), -100)\n",
    "\n",
    "        # if bos token is appended in previous tokenization step,\n",
    "        # cut bos token here as it's append later anyways\n",
    "        if (labels[:, 0] == self.decoder_start_token_id).all().cpu().item():\n",
    "            labels = labels[:, 1:]\n",
    "\n",
    "        batch[\"labels\"] = labels\n",
    "\n",
    "        return batch\n"
   ]
  },
  {
   "cell_type": "code",
   "execution_count": 9,
   "metadata": {},
   "outputs": [],
   "source": [
    "import evaluate\n",
    "metric = evaluate.load('cer')"
   ]
  },
  {
   "cell_type": "code",
   "execution_count": 10,
   "metadata": {},
   "outputs": [],
   "source": [
    "data_collator = DataCollatorSpeechSeq2SeqWithPadding(\n",
    "    processor=processor,\n",
    "    decoder_start_token_id=model.config.decoder_start_token_id,\n",
    ")"
   ]
  },
  {
   "cell_type": "code",
   "execution_count": 11,
   "metadata": {},
   "outputs": [],
   "source": [
    "model.config.forced_decoder_ids = None\n",
    "model.config.suppress_tokens = []"
   ]
  },
  {
   "cell_type": "code",
   "execution_count": 12,
   "metadata": {},
   "outputs": [],
   "source": [
    "def compute_metrics(pred):\n",
    "    pred_ids = pred.predictions\n",
    "    label_ids = pred.label_ids\n",
    "\n",
    "    # replace -100 with the pad_token_id\n",
    "    label_ids[label_ids == -100] = tokenizer.pad_token_id\n",
    "\n",
    "    # we do not want to group tokens when computing the metrics\n",
    "    pred_str = tokenizer.batch_decode(pred_ids, skip_special_tokens=True)\n",
    "    label_str = tokenizer.batch_decode(label_ids, skip_special_tokens=True)\n",
    "\n",
    "    cer = 100 * metric.compute(predictions=pred_str, references=label_str)\n",
    "\n",
    "    # return {\"wer\": wer}\n",
    "    return {\"cer\": cer}\n"
   ]
  },
  {
   "cell_type": "code",
   "execution_count": 24,
   "metadata": {},
   "outputs": [],
   "source": [
    "from transformers import Seq2SeqTrainingArguments\n",
    "\n",
    "training_args = Seq2SeqTrainingArguments(\n",
    "    output_dir=\"./whisper-tiny-ko\",  # change to a repo name of your choice\n",
    "    per_device_train_batch_size=16,\n",
    "    gradient_accumulation_steps=1,  # increase by 2x for every 2x decrease in batch size\n",
    "    learning_rate=1e-5,\n",
    "    warmup_steps=500,\n",
    "    num_train_epochs = 2,\n",
    "    gradient_checkpointing=True,\n",
    "    fp16=True,\n",
    "    evaluation_strategy=\"epoch\",\n",
    "    save_strategy=\"epoch\",\n",
    "    per_device_eval_batch_size=8,\n",
    "    predict_with_generate=True,\n",
    "    generation_max_length=225,\n",
    "    save_steps=1000,\n",
    "    logging_steps=25,\n",
    "    report_to=[\"tensorboard\"],\n",
    "    load_best_model_at_end=True,\n",
    "    metric_for_best_model=\"cer\", # 한국어의 경우 wer보다 cer이 나음\n",
    "    greater_is_better=False,\n",
    "    push_to_hub=False,  # True로 하면 huggingface에 push\n",
    ")"
   ]
  },
  {
   "cell_type": "code",
   "execution_count": 25,
   "metadata": {},
   "outputs": [],
   "source": [
    "from transformers import Seq2SeqTrainer\n",
    "\n",
    "trainer = Seq2SeqTrainer(\n",
    "    args=training_args,\n",
    "    model=model,\n",
    "    train_dataset=input_dataset[\"train\"],\n",
    "    eval_dataset=input_dataset[\"test\"],\n",
    "    data_collator=data_collator,\n",
    "    compute_metrics=compute_metrics,\n",
    "    tokenizer=processor.feature_extractor,\n",
    ")\n"
   ]
  },
  {
   "cell_type": "code",
   "execution_count": 26,
   "metadata": {},
   "outputs": [
    {
     "name": "stderr",
     "output_type": "stream",
     "text": [
      "/home/yumin/miniconda3/envs/whisper/lib/python3.11/site-packages/torch/utils/checkpoint.py:429: UserWarning: torch.utils.checkpoint: please pass in use_reentrant=True or use_reentrant=False explicitly. The default value of use_reentrant will be updated to be False in the future. To maintain current behavior, pass use_reentrant=True. It is recommended that you use use_reentrant=False. Refer to docs for more details on the differences between the two variants.\n",
      "  warnings.warn(\n"
     ]
    },
    {
     "data": {
      "text/html": [
       "\n",
       "    <div>\n",
       "      \n",
       "      <progress value='2784' max='2784' style='width:300px; height:20px; vertical-align: middle;'></progress>\n",
       "      [2784/2784 1:11:39, Epoch 2/2]\n",
       "    </div>\n",
       "    <table border=\"1\" class=\"dataframe\">\n",
       "  <thead>\n",
       " <tr style=\"text-align: left;\">\n",
       "      <th>Epoch</th>\n",
       "      <th>Training Loss</th>\n",
       "      <th>Validation Loss</th>\n",
       "      <th>Cer</th>\n",
       "    </tr>\n",
       "  </thead>\n",
       "  <tbody>\n",
       "    <tr>\n",
       "      <td>1</td>\n",
       "      <td>0.350300</td>\n",
       "      <td>0.406906</td>\n",
       "      <td>13.461840</td>\n",
       "    </tr>\n",
       "    <tr>\n",
       "      <td>2</td>\n",
       "      <td>0.242500</td>\n",
       "      <td>0.346621</td>\n",
       "      <td>11.569567</td>\n",
       "    </tr>\n",
       "  </tbody>\n",
       "</table><p>"
      ],
      "text/plain": [
       "<IPython.core.display.HTML object>"
      ]
     },
     "metadata": {},
     "output_type": "display_data"
    },
    {
     "name": "stderr",
     "output_type": "stream",
     "text": [
      "Due to a bug fix in https://github.com/huggingface/transformers/pull/28687 transcription using a multilingual Whisper will default to language detection followed by transcription instead of translation to English.This might be a breaking change for your use case. If you want to instead always translate your audio to English, make sure to pass `language='en'`.\n",
      "Some non-default generation parameters are set in the model config. These should go into a GenerationConfig file (https://huggingface.co/docs/transformers/generation_strategies#save-a-custom-decoding-strategy-with-your-model) instead. This warning will be raised to an exception in v4.41.\n",
      "Non-default generation parameters: {'max_length': 448, 'suppress_tokens': [], 'begin_suppress_tokens': [220, 50257]}\n",
      "/home/yumin/miniconda3/envs/whisper/lib/python3.11/site-packages/torch/utils/checkpoint.py:429: UserWarning: torch.utils.checkpoint: please pass in use_reentrant=True or use_reentrant=False explicitly. The default value of use_reentrant will be updated to be False in the future. To maintain current behavior, pass use_reentrant=True. It is recommended that you use use_reentrant=False. Refer to docs for more details on the differences between the two variants.\n",
      "  warnings.warn(\n",
      "Some non-default generation parameters are set in the model config. These should go into a GenerationConfig file (https://huggingface.co/docs/transformers/generation_strategies#save-a-custom-decoding-strategy-with-your-model) instead. This warning will be raised to an exception in v4.41.\n",
      "Non-default generation parameters: {'max_length': 448, 'suppress_tokens': [], 'begin_suppress_tokens': [220, 50257]}\n",
      "There were missing keys in the checkpoint model loaded: ['proj_out.weight'].\n"
     ]
    },
    {
     "data": {
      "text/plain": [
       "TrainOutput(global_step=2784, training_loss=0.3755353070881175, metrics={'train_runtime': 4302.8633, 'train_samples_per_second': 10.348, 'train_steps_per_second': 0.647, 'total_flos': 1.09618047885312e+18, 'train_loss': 0.3755353070881175, 'epoch': 2.0})"
      ]
     },
     "execution_count": 26,
     "metadata": {},
     "output_type": "execute_result"
    }
   ],
   "source": [
    "trainer.train()"
   ]
  },
  {
   "cell_type": "code",
   "execution_count": null,
   "metadata": {},
   "outputs": [],
   "source": [
    "# Package                   Version\n",
    "# ------------------------- ------------\n",
    "# absl-py                   2.1.0\n",
    "# accelerate                0.30.1\n",
    "# aiofiles                  23.2.1\n",
    "# aiohttp                   3.9.5\n",
    "# aiosignal                 1.3.1\n",
    "# altair                    5.3.0\n",
    "# annotated-types           0.6.0\n",
    "# anyio                     4.3.0\n",
    "# asttokens                 2.4.1\n",
    "# attrs                     23.2.0\n",
    "# audioread                 3.0.1\n",
    "# Brotli                    1.0.9\n",
    "# certifi                   2024.2.2\n",
    "# cffi                      1.16.0\n",
    "# charset-normalizer        2.0.4\n",
    "# click                     8.1.7\n",
    "# comm                      0.2.2\n",
    "# contourpy                 1.2.1\n",
    "# cycler                    0.12.1\n",
    "# datasets                  2.19.1\n",
    "# debugpy                   1.6.7\n",
    "# decorator                 5.1.1\n",
    "# dill                      0.3.8\n",
    "# dnspython                 2.6.1\n",
    "# email_validator           2.1.1\n",
    "# evaluate                  0.4.2\n",
    "# exceptiongroup            1.2.0\n",
    "# executing                 2.0.1\n",
    "# fastapi                   0.111.0\n",
    "# fastapi-cli               0.0.3\n",
    "# ffmpy                     0.3.2\n",
    "# filelock                  3.13.1\n",
    "# fonttools                 4.51.0\n",
    "# frozenlist                1.4.1\n",
    "# fsspec                    2024.3.1\n",
    "# gmpy2                     2.1.2\n",
    "# gradio                    4.31.3\n",
    "# gradio_client             0.16.3\n",
    "# grpcio                    1.63.0\n",
    "# h11                       0.14.0\n",
    "# httpcore                  1.0.5\n",
    "# httptools                 0.6.1\n",
    "# httpx                     0.27.0\n",
    "# huggingface-hub           0.23.0\n",
    "# idna                      3.7\n",
    "# importlib_metadata        7.1.0\n",
    "# importlib_resources       6.4.0\n",
    "# ipykernel                 6.29.3\n",
    "# ipython                   8.24.0\n",
    "# jedi                      0.19.1\n",
    "# Jinja2                    3.1.3\n",
    "# jiwer                     3.0.4\n",
    "# joblib                    1.4.2\n",
    "# jsonschema                4.22.0\n",
    "# jsonschema-specifications 2023.12.1\n",
    "# jupyter_client            8.6.1\n",
    "# jupyter_core              5.7.2\n",
    "# kiwisolver                1.4.5\n",
    "# lazy_loader               0.4\n",
    "# librosa                   0.10.2.post1\n",
    "# llvmlite                  0.42.0\n",
    "# Markdown                  3.6\n",
    "# markdown-it-py            3.0.0\n",
    "# MarkupSafe                2.1.3\n",
    "# matplotlib                3.9.0\n",
    "# matplotlib-inline         0.1.7\n",
    "# mdurl                     0.1.2\n",
    "# mkl-fft                   1.3.8\n",
    "# mkl-random                1.2.4\n",
    "# mkl-service               2.4.0\n",
    "# mpmath                    1.3.0\n",
    "# msgpack                   1.0.8\n",
    "# multidict                 6.0.5\n",
    "# multiprocess              0.70.16\n",
    "# nest_asyncio              1.6.0\n",
    "# networkx                  3.1\n",
    "# numba                     0.59.1\n",
    "# numpy                     1.26.4\n",
    "# orjson                    3.10.3\n",
    "# packaging                 24.0\n",
    "# pandas                    2.2.2\n",
    "# parso                     0.8.4\n",
    "# pexpect                   4.9.0\n",
    "# pickleshare               0.7.5\n",
    "# pillow                    10.3.0\n",
    "# pip                       24.0\n",
    "# platformdirs              4.2.2\n",
    "# pooch                     1.8.1\n",
    "# prompt-toolkit            3.0.42\n",
    "# protobuf                  5.26.1\n",
    "# psutil                    5.9.8\n",
    "# ptyprocess                0.7.0\n",
    "# pure-eval                 0.2.2\n",
    "# pyarrow                   16.1.0\n",
    "# pyarrow-hotfix            0.6\n",
    "# pycparser                 2.22\n",
    "# pydantic                  2.7.1\n",
    "# pydantic_core             2.18.2\n",
    "# pydub                     0.25.1\n",
    "# Pygments                  2.18.0\n",
    "# pyparsing                 3.1.2\n",
    "# PySocks                   1.7.1\n",
    "# python-dateutil           2.9.0\n",
    "# python-dotenv             1.0.1\n",
    "# python-multipart          0.0.9\n",
    "# pytz                      2024.1\n",
    "# PyYAML                    6.0.1\n",
    "# pyzmq                     25.1.2\n",
    "# rapidfuzz                 3.9.0\n",
    "# referencing               0.35.1\n",
    "# regex                     2024.5.15\n",
    "# requests                  2.31.0\n",
    "# rich                      13.7.1\n",
    "# rpds-py                   0.18.1\n",
    "# ruff                      0.4.4\n",
    "# safetensors               0.4.3\n",
    "# scikit-learn              1.4.2\n",
    "# scipy                     1.13.0\n",
    "# semantic-version          2.10.0\n",
    "# setuptools                69.5.1\n",
    "# shellingham               1.5.4\n",
    "# six                       1.16.0\n",
    "# sniffio                   1.3.1\n",
    "# soundfile                 0.12.1\n",
    "# soxr                      0.3.7\n",
    "# stack-data                0.6.2\n",
    "# starlette                 0.37.2\n",
    "# sympy                     1.12\n",
    "# tensorboard               2.16.2\n",
    "# tensorboard-data-server   0.7.2\n",
    "# threadpoolctl             3.5.0\n",
    "# tiktoken                  0.7.0\n",
    "# tokenizers                0.19.1\n",
    "# tomlkit                   0.12.0\n",
    "# toolz                     0.12.1\n",
    "# torch                     2.1.2\n",
    "# torchaudio                2.1.2\n",
    "# torchvision               0.16.2\n",
    "# tornado                   6.4\n",
    "# tqdm                      4.66.4\n",
    "# traitlets                 5.14.3\n",
    "# transformers              4.40.2\n",
    "# triton                    2.1.0\n",
    "# typer                     0.12.3\n",
    "# typing_extensions         4.11.0\n",
    "# tzdata                    2024.1\n",
    "# ujson                     5.10.0\n",
    "# urllib3                   2.2.1\n",
    "# uvicorn                   0.29.0\n",
    "# uvloop                    0.19.0\n",
    "# watchfiles                0.21.0\n",
    "# wcwidth                   0.2.13\n",
    "# websockets                11.0.3\n",
    "# Werkzeug                  3.0.3\n",
    "# wheel                     0.43.0\n",
    "# xxhash                    3.4.1\n",
    "# yarl                      1.9.4\n",
    "# zipp                      3.17.0"
   ]
  }
 ],
 "metadata": {
  "kernelspec": {
   "display_name": "audio",
   "language": "python",
   "name": "python3"
  },
  "language_info": {
   "codemirror_mode": {
    "name": "ipython",
    "version": 3
   },
   "file_extension": ".py",
   "mimetype": "text/x-python",
   "name": "python",
   "nbconvert_exporter": "python",
   "pygments_lexer": "ipython3",
   "version": "3.11.9"
  }
 },
 "nbformat": 4,
 "nbformat_minor": 2
}
