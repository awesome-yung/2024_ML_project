{
 "cells": [
  {
   "cell_type": "markdown",
   "metadata": {},
   "source": [
    "데이터셋 내려받기"
   ]
  },
  {
   "cell_type": "code",
   "execution_count": 1,
   "metadata": {},
   "outputs": [],
   "source": [
    "!pip -q install gdown"
   ]
  },
  {
   "cell_type": "code",
   "execution_count": 2,
   "metadata": {},
   "outputs": [
    {
     "name": "stdout",
     "output_type": "stream",
     "text": [
      "/home/yumin/miniconda3/envs/faster/lib/python3.11/site-packages/gdown/__main__.py:140: FutureWarning: Option `--id` was deprecated in version 4.3.1 and will be removed in 5.0. You don't need to pass it anymore to use a file ID.\n",
      "  warnings.warn(\n",
      "Failed to retrieve file url:\n",
      "\n",
      "\tToo many users have viewed or downloaded this file recently. Please\n",
      "\ttry accessing the file again later. If the file you are trying to\n",
      "\taccess is particularly large or is shared with many people, it may\n",
      "\ttake up to 24 hours to be able to view or download the file. If you\n",
      "\tstill can't access a file after 24 hours, contact your domain\n",
      "\tadministrator.\n",
      "\n",
      "You may still be able to access the file from the browser:\n",
      "\n",
      "\thttps://drive.google.com/uc?id=17OGAwWhe-ww_xgLSmCmROLgvKbpi__aB\n",
      "\n",
      "but Gdown can't. Please check connections and permissions.\n"
     ]
    }
   ],
   "source": [
    "# ../dataset/wav 폴더에 저장한다.\n",
    "!gdown --id \"1T2aTpUhdtZbt2G24O6bEIuu7Cwu5KubW\" -O ../dataset/wav"
   ]
  },
  {
   "cell_type": "markdown",
   "metadata": {},
   "source": [
    "데이터셋 5초 간격 분할"
   ]
  },
  {
   "cell_type": "code",
   "execution_count": 2,
   "metadata": {},
   "outputs": [],
   "source": [
    "import os\n",
    "import librosa\n",
    "import soundfile as sf\n",
    "\n",
    "def split_and_save(wav_path, output_dir, segment_length=30):\n",
    "\n",
    "    \"\"\"\n",
    "    - wav_path : 로드할 WAV 파일 또는 MP3 파일의 경로\n",
    "    - output_dir : WAV 파일들을 저장할 디렉토리 경로\n",
    "    - segment_length : 분할할 세그먼트의 길이 (초 단위, 기본값은 30초)\n",
    "    \"\"\"\n",
    "\n",
    "    # 출력 디렉토리가 존재하지 않으면 생성\n",
    "    if not os.path.exists(output_dir):\n",
    "        os.makedirs(output_dir)\n",
    "\n",
    "    # WAV 파일 또는 MP3 파일 로드합니다.  sr을 None으로 하면 원본 샘플링 레이트를 사용한다는 의미입니다.\n",
    "    #\n",
    "    # 리턴값 :\n",
    "    # y는 오디오의 시계열 데이터가 저장되어 있는 넘파이 배열입니다.\n",
    "    # sr은 로드된 오디오 파일에 포함된 총 샘플 수를 나타냅니다.\n",
    "    y, sr = librosa.load(wav_path, sr=None)\n",
    "\n",
    "    # 샘플의 총 길이 계산\n",
    "    total_samples = len(y)\n",
    "\n",
    "    # 전체 오디오를 segment_length 초 단위로 나눈 각 세그먼트의 샘플 수 계산\n",
    "    segment_samples = segment_length * sr \n",
    "\n",
    "    # 지정된 길이 segment_samples로 분할하여 WAV 파일로 저장\n",
    "    for start_sample in range(0, total_samples, segment_samples):\n",
    "        end_sample = start_sample + segment_samples\n",
    "        output_path = f\"{output_dir}/segment_{start_sample // segment_samples}.wav\"\n",
    "\n",
    "        # 여기서는 segment로 분할된 오디오 데이터를 WAV 파일로 저장한다.\n",
    "        sf.write(output_path, y[start_sample:end_sample], sr)\n",
    "\n",
    "\n",
    "# 사용 예:\n",
    "# wav_path = \"d,system_1.wav\"\n",
    "# output_dir = \"../wav_patch/train_1\"\n",
    "# split_and_save(wav_path, output_dir, segment_length=5)"
   ]
  },
  {
   "cell_type": "code",
   "execution_count": 6,
   "metadata": {},
   "outputs": [],
   "source": [
    "import os\n",
    "root = '../dataset/wav/'\n",
    "\n",
    "folder_list = ['_2022_03_16.wav',\n",
    "               '_2022_03_21.wav',\n",
    "               '_2022_03_28.wav',\n",
    "               '_2022_03_30.wav',\n",
    "               '_2022_04_04.wav',\n",
    "               '_2022_04_06.wav',\n",
    "               '_2022_04_11.wav',\n",
    "               '_2022_04_13.wav',\n",
    "               '_2022_04_18.wav',\n",
    "               '_2022_04_20.wav',\n",
    "               '_2024_05_01.wav',\n",
    "               '_d_system_1.wav',\n",
    "               '_d_system_2.wav',\n",
    "               '_d_system_3.wav']\n",
    "\n",
    "for folder_name in folder_list:\n",
    "    raw_path = root + 'raw/' + folder_name\n",
    "    wav_path = folder_name\n",
    "    output_dir = root + folder_name.split('.')[0]\n",
    "    split_and_save(wav_path, output_dir, segment_length=5)"
   ]
  },
  {
   "cell_type": "code",
   "execution_count": null,
   "metadata": {},
   "outputs": [],
   "source": []
  }
 ],
 "metadata": {
  "kernelspec": {
   "display_name": "audio",
   "language": "python",
   "name": "python3"
  },
  "language_info": {
   "codemirror_mode": {
    "name": "ipython",
    "version": 3
   },
   "file_extension": ".py",
   "mimetype": "text/x-python",
   "name": "python",
   "nbconvert_exporter": "python",
   "pygments_lexer": "ipython3",
   "version": "3.11.9"
  }
 },
 "nbformat": 4,
 "nbformat_minor": 2
}
