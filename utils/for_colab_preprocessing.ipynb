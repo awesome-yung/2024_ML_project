{
 "cells": [
  {
   "cell_type": "code",
   "execution_count": 1,
   "metadata": {},
   "outputs": [],
   "source": [
    "root = '../dataset/wav/_d_system_1/'\n",
    "\n",
    "audio_list = ['segment_5.wav',\n",
    "              'segment_10.wav',\n",
    "              'segment_15.wav',\n",
    "              'segment_20.wav',\n",
    "              'segment_24.wav',\n",
    "              'segment_25.wav',\n",
    "              'segment_30.wav',\n",
    "              'segment_40.wav',\n",
    "              'segment_46.wav',\n",
    "              'segment_48.wav',\n",
    "              'segment_49.wav'\n",
    "              ]\n",
    "\n",
    "text_list = ['와이가 들어왔을 때 엑스가 일이고 와이가 영이거나',\n",
    "             '같을 때 일을 출력하는 거예요. 그래서',\n",
    "             '엑스 와이 그다음에 엑스 익스클루시브 오아 와이',\n",
    "             '그래서 익스클루시브 오아를 어떻게 구현하느냐 엔드오아로',\n",
    "             '여기까지 따라온 사람 손 들어보세요',\n",
    "             '잘들 따라오고 있죠? 아직까지는 어려운 거 없어요',\n",
    "             '집중 안하고 있죠 아침 월요일 아침이라 로그인만 해놓고 자는 거',\n",
    "             '얘 둘도 낸드가 돼요 근데 문제는 이쪽 파시 포션이죠',\n",
    "             '력은 뭐가 돼요 우리 저 손들고 학생 있는 학생 손 내리고',\n",
    "             '이승주 학생도 아직 손 들고 있는데 손 내리고 김용재 김은솔 이선주',\n",
    "             '돌아왔으면 손 들어보세요 정신차렸으면 손 손 들어보세요'\n",
    "             ]"
   ]
  },
  {
   "cell_type": "code",
   "execution_count": 2,
   "metadata": {},
   "outputs": [],
   "source": [
    "import librosa\n",
    "import numpy as np\n",
    "from datasets import Dataset, DatasetDict, Features, Array2D, Value\n",
    "from transformers import WhisperProcessor, WhisperFeatureExtractor, WhisperTokenizer"
   ]
  },
  {
   "cell_type": "code",
   "execution_count": 3,
   "metadata": {},
   "outputs": [],
   "source": [
    "model_name_or_path ='ymlee/ML_project_voice2text_largev2_1epoch'\n",
    "task = \"transcribe\"\n",
    "language = \"Korean\" \n",
    "language_abbr = 'ko'"
   ]
  },
  {
   "cell_type": "code",
   "execution_count": 4,
   "metadata": {},
   "outputs": [
    {
     "name": "stderr",
     "output_type": "stream",
     "text": [
      "/home/yumin/miniconda3/envs/faster/lib/python3.11/site-packages/huggingface_hub/file_download.py:1132: FutureWarning: `resume_download` is deprecated and will be removed in version 1.0.0. Downloads always resume when possible. If you want to force a new download, use `force_download=True`.\n",
      "  warnings.warn(\n",
      "Special tokens have been added in the vocabulary, make sure the associated word embeddings are fine-tuned or trained.\n",
      "Special tokens have been added in the vocabulary, make sure the associated word embeddings are fine-tuned or trained.\n"
     ]
    }
   ],
   "source": [
    "processor = WhisperProcessor.from_pretrained(model_name_or_path, language=language, task=task)\n",
    "feature_extractor = WhisperFeatureExtractor.from_pretrained(model_name_or_path)\n",
    "tokenizer = WhisperTokenizer.from_pretrained(model_name_or_path, language=language_abbr, task=task)"
   ]
  },
  {
   "cell_type": "code",
   "execution_count": 5,
   "metadata": {},
   "outputs": [],
   "source": [
    "def prepare_dataset(batch):\n",
    "    # load and resample audio data from 48 to 16kHz\n",
    "    audio = batch[\"audio\"]\n",
    "\n",
    "    # compute log-Mel input features from input audio array \n",
    "    batch[\"input_features\"] = feature_extractor(audio[\"array\"], sampling_rate=audio[\"sampling_rate\"]).input_features[0]\n",
    "\n",
    "    # encode target text to label ids \n",
    "    batch[\"labels\"] = tokenizer(batch[\"text\"]).input_ids\n",
    "    return batch"
   ]
  },
  {
   "cell_type": "code",
   "execution_count": 9,
   "metadata": {},
   "outputs": [],
   "source": [
    "import pyarrow as pa\n",
    "import os\n",
    "\n",
    "concat_data = []\n",
    "\n",
    "for audio, text_data in zip(audio_list, text_list):\n",
    "    audio_path = os.path.join(root, audio)\n",
    "    audio_array, sampling_rate = librosa.load(audio_path, sr=16000)\n",
    "    audio_data = {\n",
    "                'path': None,\n",
    "                'array': audio_array,\n",
    "                'sampling_rate': sampling_rate\n",
    "                }\n",
    "    data = {\n",
    "    'audio': audio_data,\n",
    "    'text': text_data\n",
    "    }\n",
    "    concat_data.append(data)\n",
    "\n",
    "def set_numpy(sample):\n",
    "    sample['audio']['array'] = np.array(sample['audio']['array'], dtype=np.float32)\n",
    "\n",
    "dataset = Dataset.from_list(concat_data).train_test_split(test_size=0.2, seed=42) # train, test 분할\n",
    "dataset_dict = DatasetDict({'train' : dataset['train'], 'test':dataset['test']}).with_format(\"np\")"
   ]
  },
  {
   "cell_type": "code",
   "execution_count": 10,
   "metadata": {},
   "outputs": [
    {
     "data": {
      "application/vnd.jupyter.widget-view+json": {
       "model_id": "507d7dcc4fab4aa9937494d9153fef0b",
       "version_major": 2,
       "version_minor": 0
      },
      "text/plain": [
       "Map:   0%|          | 0/8 [00:00<?, ? examples/s]"
      ]
     },
     "metadata": {},
     "output_type": "display_data"
    },
    {
     "data": {
      "application/vnd.jupyter.widget-view+json": {
       "model_id": "020de8b4a0004038932e401eb012711e",
       "version_major": 2,
       "version_minor": 0
      },
      "text/plain": [
       "Map:   0%|          | 0/3 [00:00<?, ? examples/s]"
      ]
     },
     "metadata": {},
     "output_type": "display_data"
    }
   ],
   "source": [
    "columns_to_remove = ['audio', 'text']\n",
    "\n",
    "# converted_dict = dataset_dict.map(prepare_dataset, remove_columns=columns_to_remove, num_proc=4)\n",
    "converted_dict = dataset_dict.map(prepare_dataset).remove_columns(columns_to_remove)"
   ]
  },
  {
   "cell_type": "code",
   "execution_count": 11,
   "metadata": {},
   "outputs": [
    {
     "data": {
      "application/vnd.jupyter.widget-view+json": {
       "model_id": "c48d651d849b4323b1b3b16e2abd6ca0",
       "version_major": 2,
       "version_minor": 0
      },
      "text/plain": [
       "Saving the dataset (0/1 shards):   0%|          | 0/8 [00:00<?, ? examples/s]"
      ]
     },
     "metadata": {},
     "output_type": "display_data"
    },
    {
     "data": {
      "application/vnd.jupyter.widget-view+json": {
       "model_id": "8d16b461e3854ecbbdeae053376b7e3a",
       "version_major": 2,
       "version_minor": 0
      },
      "text/plain": [
       "Saving the dataset (0/1 shards):   0%|          | 0/3 [00:00<?, ? examples/s]"
      ]
     },
     "metadata": {},
     "output_type": "display_data"
    }
   ],
   "source": [
    "converted_dict.save_to_disk(\"../custom_dataset\")"
   ]
  },
  {
   "cell_type": "markdown",
   "metadata": {},
   "source": [
    "### datasets 확인"
   ]
  },
  {
   "cell_type": "code",
   "execution_count": 14,
   "metadata": {},
   "outputs": [
    {
     "data": {
      "text/plain": [
       "DatasetDict({\n",
       "    train: Dataset({\n",
       "        features: ['input_features', 'labels'],\n",
       "        num_rows: 8\n",
       "    })\n",
       "    test: Dataset({\n",
       "        features: ['input_features', 'labels'],\n",
       "        num_rows: 3\n",
       "    })\n",
       "})"
      ]
     },
     "execution_count": 14,
     "metadata": {},
     "output_type": "execute_result"
    }
   ],
   "source": [
    "from datasets import load_from_disk\n",
    "\n",
    "new_dataset_load = '../custom_dataset'\n",
    "loaded_datasets = load_from_disk(new_dataset_load)\n",
    "loaded_datasets"
   ]
  }
 ],
 "metadata": {
  "kernelspec": {
   "display_name": "whisper",
   "language": "python",
   "name": "python3"
  },
  "language_info": {
   "codemirror_mode": {
    "name": "ipython",
    "version": 3
   },
   "file_extension": ".py",
   "mimetype": "text/x-python",
   "name": "python",
   "nbconvert_exporter": "python",
   "pygments_lexer": "ipython3",
   "version": "3.11.9"
  }
 },
 "nbformat": 4,
 "nbformat_minor": 2
}
