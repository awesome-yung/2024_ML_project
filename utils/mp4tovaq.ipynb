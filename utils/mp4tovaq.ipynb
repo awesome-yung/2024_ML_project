{
 "cells": [
  {
   "cell_type": "code",
   "execution_count": 1,
   "metadata": {},
   "outputs": [],
   "source": [
    "from moviepy.editor import VideoFileClip\n",
    "\n",
    "def extract_audio_from_video(video_file_path, audio_file_path):\n",
    "    # mp4 등 비디오 파일 불러오기\n",
    "    video = VideoFileClip(video_file_path)\n",
    "    \n",
    "    # 오디오를 추출하여 mp3 파일로 저장\n",
    "    # video.audio.write_audiofile(audio_file_path)\n",
    "    video.audio.write_audiofile(audio_file_path, codec='pcm_s16le')\n",
    "\n",
    "# video_file = '컴구/2022 03 16 컴퓨터구조.mp4'  # 변환하고 싶은 비디오 파일의 경로\n",
    "# audio_file = '컴구/2022 03 16 컴퓨터구조.wav'  # 저장할 오디오 파일의 경로, 이름 지정\n",
    "\n",
    "# extract_audio_from_video(video_file, audio_file)"
   ]
  },
  {
   "cell_type": "code",
   "execution_count": 3,
   "metadata": {},
   "outputs": [
    {
     "name": "stdout",
     "output_type": "stream",
     "text": [
      "MoviePy - Writing audio in 2022 03 16 컴퓨터구조.wav\n"
     ]
    },
    {
     "name": "stderr",
     "output_type": "stream",
     "text": [
      "                                                                        \r"
     ]
    },
    {
     "name": "stdout",
     "output_type": "stream",
     "text": [
      "MoviePy - Done.\n",
      "MoviePy - Writing audio in 2022 03 21 컴퓨터구조.wav\n"
     ]
    },
    {
     "name": "stderr",
     "output_type": "stream",
     "text": [
      "                                                                          \r"
     ]
    },
    {
     "name": "stdout",
     "output_type": "stream",
     "text": [
      "MoviePy - Done.\n",
      "MoviePy - Writing audio in 2022 03 28 컴퓨터구조.wav\n"
     ]
    },
    {
     "name": "stderr",
     "output_type": "stream",
     "text": [
      "                                                                          \r"
     ]
    },
    {
     "name": "stdout",
     "output_type": "stream",
     "text": [
      "MoviePy - Done.\n",
      "MoviePy - Writing audio in 2022 03 16 컴퓨터구조.wav\n"
     ]
    },
    {
     "name": "stderr",
     "output_type": "stream",
     "text": [
      "                                                                        \r"
     ]
    },
    {
     "name": "stdout",
     "output_type": "stream",
     "text": [
      "MoviePy - Done.\n",
      "MoviePy - Writing audio in 2022 04 04 컴퓨터구조.wav\n"
     ]
    },
    {
     "name": "stderr",
     "output_type": "stream",
     "text": [
      "                                                                          \r"
     ]
    },
    {
     "name": "stdout",
     "output_type": "stream",
     "text": [
      "MoviePy - Done.\n",
      "MoviePy - Writing audio in 2022 04 06 컴퓨터구조.wav\n"
     ]
    },
    {
     "name": "stderr",
     "output_type": "stream",
     "text": [
      "                                                                        \r"
     ]
    },
    {
     "name": "stdout",
     "output_type": "stream",
     "text": [
      "MoviePy - Done.\n",
      "MoviePy - Writing audio in 2022 04 11 컴퓨터구조.wav\n"
     ]
    },
    {
     "name": "stderr",
     "output_type": "stream",
     "text": [
      "                                                                        \r"
     ]
    },
    {
     "name": "stdout",
     "output_type": "stream",
     "text": [
      "MoviePy - Done.\n",
      "MoviePy - Writing audio in 2022 04 13 컴퓨터구조.wav\n"
     ]
    },
    {
     "name": "stderr",
     "output_type": "stream",
     "text": [
      "                                                                          \r"
     ]
    },
    {
     "name": "stdout",
     "output_type": "stream",
     "text": [
      "MoviePy - Done.\n",
      "MoviePy - Writing audio in 2022 04 18 컴퓨터구조.wav\n"
     ]
    },
    {
     "name": "stderr",
     "output_type": "stream",
     "text": [
      "                                                                          \r"
     ]
    },
    {
     "name": "stdout",
     "output_type": "stream",
     "text": [
      "MoviePy - Done.\n",
      "MoviePy - Writing audio in 2022 04 20 컴퓨터구조.wav\n"
     ]
    },
    {
     "name": "stderr",
     "output_type": "stream",
     "text": [
      "                                                                        "
     ]
    },
    {
     "name": "stdout",
     "output_type": "stream",
     "text": [
      "MoviePy - Done.\n"
     ]
    },
    {
     "name": "stderr",
     "output_type": "stream",
     "text": [
      "\r"
     ]
    }
   ],
   "source": [
    "mp4_list = ['2022 03 16 컴퓨터구조.mp4',\n",
    "            '2022 03 21 컴퓨터구조.mp4',\n",
    "            '2022 03 28 컴퓨터구조.mp4',\n",
    "            '2022 03 16 컴퓨터구조.mp4',\n",
    "            '2022 04 04 컴퓨터구조.mp4',\n",
    "            '2022 04 06 컴퓨터구조.mp4',\n",
    "            '2022 04 11 컴퓨터구조.mp4',\n",
    "            '2022 04 13 컴퓨터구조.mp4',\n",
    "            '2022 04 18 컴퓨터구조.mp4',\n",
    "            '2022 04 20 컴퓨터구조.mp4',]\n",
    "wav_list = ['2022 03 16 컴퓨터구조.wav',\n",
    "            '2022 03 21 컴퓨터구조.wav',\n",
    "            '2022 03 28 컴퓨터구조.wav',\n",
    "            '2022 03 16 컴퓨터구조.wav',\n",
    "            '2022 04 04 컴퓨터구조.wav',\n",
    "            '2022 04 06 컴퓨터구조.wav',\n",
    "            '2022 04 11 컴퓨터구조.wav',\n",
    "            '2022 04 13 컴퓨터구조.wav',\n",
    "            '2022 04 18 컴퓨터구조.wav',\n",
    "            '2022 04 20 컴퓨터구조.wav',]\n",
    "\n",
    "for video_file, audio_file  in zip(mp4_list, wav_list):\n",
    "    extract_audio_from_video(video_file, audio_file)"
   ]
  },
  {
   "cell_type": "code",
   "execution_count": 4,
   "metadata": {},
   "outputs": [
    {
     "name": "stdout",
     "output_type": "stream",
     "text": [
      "MoviePy - Writing audio in 2022 03 30 컴퓨터구조.wav\n"
     ]
    },
    {
     "name": "stderr",
     "output_type": "stream",
     "text": [
      "                                                                        \r"
     ]
    },
    {
     "name": "stdout",
     "output_type": "stream",
     "text": [
      "MoviePy - Done.\n"
     ]
    }
   ],
   "source": [
    "video_file = '2022 03 30 컴퓨터구조.mp4'  \n",
    "audio_file = '2022 03 30 컴퓨터구조.wav' \n",
    "extract_audio_from_video(video_file, audio_file)"
   ]
  },
  {
   "cell_type": "code",
   "execution_count": 5,
   "metadata": {},
   "outputs": [
    {
     "name": "stdout",
     "output_type": "stream",
     "text": [
      "MoviePy - Writing audio in d,system_1.wav\n"
     ]
    },
    {
     "name": "stderr",
     "output_type": "stream",
     "text": [
      "                                                                        \r"
     ]
    },
    {
     "name": "stdout",
     "output_type": "stream",
     "text": [
      "MoviePy - Done.\n",
      "MoviePy - Writing audio in d,system_2.wav\n"
     ]
    },
    {
     "name": "stderr",
     "output_type": "stream",
     "text": [
      "                                                                        \r"
     ]
    },
    {
     "name": "stdout",
     "output_type": "stream",
     "text": [
      "MoviePy - Done.\n",
      "MoviePy - Writing audio in d,system_3.wav\n"
     ]
    },
    {
     "name": "stderr",
     "output_type": "stream",
     "text": [
      "                                                                        "
     ]
    },
    {
     "name": "stdout",
     "output_type": "stream",
     "text": [
      "MoviePy - Done.\n"
     ]
    },
    {
     "name": "stderr",
     "output_type": "stream",
     "text": [
      "\r"
     ]
    }
   ],
   "source": [
    "mp4_list = ['d,system_1.mp4',\n",
    "            'd,system_2.mp4',\n",
    "            'd,system_3.mp4']\n",
    "wav_list = ['d,system_1.wav',\n",
    "            'd,system_2.wav',\n",
    "            'd,system_3.wav']\n",
    "\n",
    "for video_file, audio_file  in zip(mp4_list, wav_list):\n",
    "    extract_audio_from_video(video_file, audio_file)"
   ]
  },
  {
   "cell_type": "code",
   "execution_count": 2,
   "metadata": {},
   "outputs": [
    {
     "name": "stdout",
     "output_type": "stream",
     "text": [
      "MoviePy - Writing audio in 녹화_2024_05_01_13_30_33_51.wav\n"
     ]
    },
    {
     "name": "stderr",
     "output_type": "stream",
     "text": [
      "                                                                          "
     ]
    },
    {
     "name": "stdout",
     "output_type": "stream",
     "text": [
      "MoviePy - Done.\n"
     ]
    },
    {
     "name": "stderr",
     "output_type": "stream",
     "text": [
      "\r"
     ]
    }
   ],
   "source": [
    "video_file = '녹화_2024_05_01_13_30_33_51.mp4'  \n",
    "audio_file = '녹화_2024_05_01_13_30_33_51.wav' \n",
    "extract_audio_from_video(video_file, audio_file)"
   ]
  },
  {
   "cell_type": "code",
   "execution_count": null,
   "metadata": {},
   "outputs": [],
   "source": []
  }
 ],
 "metadata": {
  "kernelspec": {
   "display_name": "audio",
   "language": "python",
   "name": "python3"
  },
  "language_info": {
   "codemirror_mode": {
    "name": "ipython",
    "version": 3
   },
   "file_extension": ".py",
   "mimetype": "text/x-python",
   "name": "python",
   "nbconvert_exporter": "python",
   "pygments_lexer": "ipython3",
   "version": "3.10.14"
  }
 },
 "nbformat": 4,
 "nbformat_minor": 2
}
